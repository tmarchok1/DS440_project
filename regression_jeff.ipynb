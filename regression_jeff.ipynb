{
 "cells": [
  {
   "cell_type": "code",
   "execution_count": 1,
   "metadata": {},
   "outputs": [],
   "source": [
    "#percentage of stadium filled \n",
    "#By team, weekday, weather (possibly look to bucket weather- rainy, cold, hot, etc.)\n",
    "#week/ point in the season\n",
    "#cityPopulation and attendance. Determining which is more influential\n",
    "#prevYearwins\n",
    "\n",
    "#interaction variables and how to evaluate them \n",
    "\n",
    "#Store residuals and use as the response variable. See which variables contribute most to this error\n",
    "\n",
    "\n",
    "# Questions\n",
    "#Categorical - how to convert (one hot, mean, etc.) and how important these choices are\n",
    " # One hot encoding (30 variables, 29 0's and 1 1)\n",
    "#Numeric - Normalization, etc.\n",
    "#Interaction effects\n",
    "    #Multiply variables by each other \n",
    "    #Sunny (0/1) and weekend (0/1). will be 1 if both\n",
    "\n",
    "\n"
   ]
  },
  {
   "cell_type": "code",
   "execution_count": 2,
   "metadata": {},
   "outputs": [],
   "source": [
    "import pandas as pd\n",
    "import numpy as np\n",
    "data = pd.read_csv('glogs_final.csv')\n",
    "data = pd.DataFrame(data)"
   ]
  },
  {
   "cell_type": "code",
   "execution_count": 3,
   "metadata": {},
   "outputs": [],
   "source": [
    "data['propFilled'] = data['attendance'] / data['capacity'] #added to be a possible response variable"
   ]
  },
  {
   "cell_type": "code",
   "execution_count": 4,
   "metadata": {},
   "outputs": [
    {
     "data": {
      "text/plain": [
       "weekend\n",
       "0    28229.696646\n",
       "1    33852.574532\n",
       "Name: attendance, dtype: float64"
      ]
     },
     "execution_count": 4,
     "metadata": {},
     "output_type": "execute_result"
    }
   ],
   "source": [
    "data['weekend'] = np.where(data['day_of_week'].isin(['Fri','Sat','Sun']),1,0) #initial EDA shows small differences M-Thur and F-Sun\n",
    "mean_attendance = data.groupby('weekend')['attendance'].mean()\n",
    "mean_attendance"
   ]
  },
  {
   "cell_type": "code",
   "execution_count": 5,
   "metadata": {},
   "outputs": [],
   "source": [
    "data = pd.get_dummies(data, columns=['h_name','v_name'], dtype=int) #One hot encoding for home and visitor teams"
   ]
  },
  {
   "cell_type": "code",
   "execution_count": 6,
   "metadata": {},
   "outputs": [],
   "source": [
    "data = data[~data['year'].isin([2014, 2015, 2016])] #excludes data from 2014-2016 as this will be used at the very end"
   ]
  },
  {
   "cell_type": "code",
   "execution_count": 7,
   "metadata": {},
   "outputs": [],
   "source": [
    "model_dat = data.drop(columns = ['date','year','day_of_week', 'park_id','propFilled'])"
   ]
  },
  {
   "cell_type": "code",
   "execution_count": 8,
   "metadata": {},
   "outputs": [],
   "source": [
    "#there are 3640 rows in model_dat without temperature or precipitation data\n",
    "model_dat_final = model_dat.dropna()"
   ]
  },
  {
   "cell_type": "code",
   "execution_count": 9,
   "metadata": {},
   "outputs": [],
   "source": [
    "#Implementing MLR Model\n",
    "from sklearn.model_selection import train_test_split\n",
    "X = model_dat_final.drop(columns=['attendance'])  \n",
    "y = model_dat_final['attendance'] \n",
    "\n",
    "X_train, X_test, y_train, y_test = train_test_split(X, y, test_size=0.2, random_state=21)\n"
   ]
  },
  {
   "cell_type": "code",
   "execution_count": 10,
   "metadata": {},
   "outputs": [
    {
     "data": {
      "text/plain": [
       "Index(['week', 'day_night', 'temp', 'precip', 'capacity', 'prev_year_wins',\n",
       "       'made_playoffs', 'won_division', 'InstagramFollowers', 'CityPopulation',\n",
       "       'attendance', 'weekend', 'h_name_ARI', 'h_name_ATL', 'h_name_BAL',\n",
       "       'h_name_BOS', 'h_name_CHC', 'h_name_CHW', 'h_name_CIN', 'h_name_CLE',\n",
       "       'h_name_COL', 'h_name_DET', 'h_name_HOU', 'h_name_KC', 'h_name_LAA',\n",
       "       'h_name_LAD', 'h_name_MIA', 'h_name_MIL', 'h_name_MIN', 'h_name_NYM',\n",
       "       'h_name_NYY', 'h_name_OAK', 'h_name_PHI', 'h_name_PIT', 'h_name_SD',\n",
       "       'h_name_SEA', 'h_name_SF', 'h_name_STL', 'h_name_TB', 'h_name_TEX',\n",
       "       'h_name_TOR', 'h_name_WSH', 'v_name_ARI', 'v_name_ATL', 'v_name_BAL',\n",
       "       'v_name_BOS', 'v_name_CHC', 'v_name_CHW', 'v_name_CIN', 'v_name_CLE',\n",
       "       'v_name_COL', 'v_name_DET', 'v_name_HOU', 'v_name_KC', 'v_name_LAA',\n",
       "       'v_name_LAD', 'v_name_MIA', 'v_name_MIL', 'v_name_MIN', 'v_name_NYM',\n",
       "       'v_name_NYY', 'v_name_OAK', 'v_name_PHI', 'v_name_PIT', 'v_name_SD',\n",
       "       'v_name_SEA', 'v_name_SF', 'v_name_STL', 'v_name_TB', 'v_name_TEX',\n",
       "       'v_name_TOR', 'v_name_WSH'],\n",
       "      dtype='object')"
      ]
     },
     "execution_count": 10,
     "metadata": {},
     "output_type": "execute_result"
    }
   ],
   "source": [
    "model_dat.columns"
   ]
  },
  {
   "cell_type": "code",
   "execution_count": 11,
   "metadata": {},
   "outputs": [],
   "source": [
    "from sklearn.linear_model import LinearRegression\n",
    "model = LinearRegression()\n",
    "model.fit(X_train, y_train)\n",
    "\n",
    "attendance_predictions = model.predict(X_test)"
   ]
  },
  {
   "cell_type": "code",
   "execution_count": 26,
   "metadata": {},
   "outputs": [],
   "source": [
    "result = pd.DataFrame({'Predicted': attendance_predictions, 'Actual': y_test})\n",
    "result['Residual'] = abs(result['Predicted'] - result['Actual'])"
   ]
  },
  {
   "cell_type": "code",
   "execution_count": 27,
   "metadata": {},
   "outputs": [
    {
     "data": {
      "text/plain": [
       "count     3628.000000\n",
       "mean      4932.314440\n",
       "std       3765.452887\n",
       "min          0.713442\n",
       "25%       1933.872517\n",
       "50%       4157.021762\n",
       "75%       7090.338499\n",
       "max      24776.097549\n",
       "Name: Residual, dtype: float64"
      ]
     },
     "execution_count": 27,
     "metadata": {},
     "output_type": "execute_result"
    }
   ],
   "source": [
    "result['Residual'].describe()"
   ]
  },
  {
   "cell_type": "code",
   "execution_count": null,
   "metadata": {},
   "outputs": [
    {
     "data": {
      "text/plain": [
       "[<matplotlib.lines.Line2D at 0x24cad5b57d0>]"
      ]
     },
     "execution_count": 23,
     "metadata": {},
     "output_type": "execute_result"
    },
    {
     "data": {
      "image/png": "[encoded data removed]",
      "text/plain": [
       "<Figure size 640x480 with 1 Axes>"
      ]
     },
     "metadata": {},
     "output_type": "display_data"
    }
   ],
   "source": [
    "import matplotlib.pyplot as plt\n",
    "\n",
    "sorted_residuals = result['Residual'].sort_values().reset_index(drop=True)\n",
    "# Plot\n",
    "plt.plot(sorted_residuals, marker='o', linestyle='-')\n"
   ]
  },
  {
   "cell_type": "code",
   "execution_count": null,
   "metadata": {},
   "outputs": [
    {
     "name": "stdout",
     "output_type": "stream",
     "text": [
      "Mean Squared Error: 38502453.06\n",
      "R² Score: 0.67\n"
     ]
    }
   ],
   "source": [
    "from sklearn.metrics import mean_squared_error, r2_score \n",
    "\n",
    "mse = mean_squared_error(y_test, attendance_predictions)\n",
    "r2 = r2_score(y_test, attendance_predictions)\n",
    "\n",
    "print(f\"Mean Squared Error: {mse:.2f}\")\n",
    "print(f\"R² Score: {r2:.2f}\")"
   ]
  }
 ],
 "metadata": {
  "kernelspec": {
   "display_name": "Python 3",
   "language": "python",
   "name": "python3"
  },
  "language_info": {
   "codemirror_mode": {
    "name": "ipython",
    "version": 3
   },
   "file_extension": ".py",
   "mimetype": "text/x-python",
   "name": "python",
   "nbconvert_exporter": "python",
   "pygments_lexer": "ipython3",
   "version": "3.11.9"
  }
 },
 "nbformat": 4,
 "nbformat_minor": 2
}
