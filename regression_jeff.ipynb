{
 "cells": [
  {
   "cell_type": "code",
   "execution_count": 18,
   "metadata": {},
   "outputs": [],
   "source": [
    "#percentage of stadium filled \n",
    "#By team, weekday, weather (possibly look to bucket weather- rainy, cold, hot, etc.)\n",
    "#week/ point in the season\n",
    "#cityPopulation and attendance. Determining which is more influential\n",
    "#prevYearwins\n",
    "\n",
    "#interaction variables and how to evaluate them \n",
    "\n",
    "#Store residuals and use as the response variable. See which variables contribute most to this error\n",
    "\n",
    "\n",
    "# Questions\n",
    "#Categorical - how to convert (one hot, mean, etc.) and how important these choices are\n",
    " # One hot encoding (30 variables, 29 0's and 1 1)\n",
    "#Numeric - Normalization, etc.\n",
    "#Interaction effects\n",
    "    #Multiply variables by each other \n",
    "    #Sunny (0/1) and weekend (0/1). will be 1 if both\n",
    "\n",
    "\n"
   ]
  },
  {
   "cell_type": "code",
   "execution_count": 1,
   "metadata": {},
   "outputs": [],
   "source": [
    "import pandas as pd\n",
    "import numpy as np\n",
    "data = pd.read_csv('glogs_final.csv')\n",
    "data = pd.DataFrame(data)"
   ]
  },
  {
   "cell_type": "code",
   "execution_count": 2,
   "metadata": {},
   "outputs": [],
   "source": [
    "data['propFilled'] = data['attendance'] / data['capacity'] #added to be a possible response variable"
   ]
  },
  {
   "cell_type": "code",
   "execution_count": 3,
   "metadata": {},
   "outputs": [
    {
     "data": {
      "text/plain": [
       "weekend\n",
       "0    28229.696646\n",
       "1    33852.574532\n",
       "Name: attendance, dtype: float64"
      ]
     },
     "execution_count": 3,
     "metadata": {},
     "output_type": "execute_result"
    }
   ],
   "source": [
    "data['weekend'] = np.where(data['day_of_week'].isin(['Fri','Sat','Sun']),1,0) #initial EDA shows small differences M-Thur and F-Sun\n",
    "mean_attendance = data.groupby('weekend')['attendance'].mean()\n",
    "mean_attendance"
   ]
  },
  {
   "cell_type": "code",
   "execution_count": 4,
   "metadata": {},
   "outputs": [],
   "source": [
    "data = pd.get_dummies(data, columns=['h_name','v_name'], dtype=int) #One hot encoding for home and visitor teams"
   ]
  },
  {
   "cell_type": "code",
   "execution_count": 5,
   "metadata": {},
   "outputs": [],
   "source": [
    "data = data[~data['year'].isin([2014, 2015, 2016])] #excludes data from 2014-2016 as this will be used at the very end"
   ]
  },
  {
   "cell_type": "code",
   "execution_count": 6,
   "metadata": {},
   "outputs": [],
   "source": [
    "model_dat = data.drop(columns = ['date','year','day_of_week', 'park_id','propFilled'])"
   ]
  },
  {
   "cell_type": "code",
   "execution_count": 7,
   "metadata": {},
   "outputs": [],
   "source": [
    "#there are 3640 rows in model_dat without temperature or precipitation data\n",
    "model_dat_final = model_dat.dropna()"
   ]
  },
  {
   "cell_type": "code",
   "execution_count": 8,
   "metadata": {},
   "outputs": [],
   "source": [
    "#Implementing MLR Model\n",
    "from sklearn.model_selection import train_test_split\n",
    "X = model_dat_final.drop(columns=['attendance'])  \n",
    "y = model_dat_final['attendance'] \n",
    "\n",
    "X_train, X_test, y_train, y_test = train_test_split(X, y, test_size=0.2, random_state=21)\n"
   ]
  },
  {
   "cell_type": "code",
   "execution_count": 9,
   "metadata": {},
   "outputs": [
    {
     "data": {
      "text/plain": [
       "Index(['week', 'day_night', 'temp', 'precip', 'capacity', 'prev_year_wins',\n",
       "       'made_playoffs', 'won_division', 'InstagramFollowers', 'CityPopulation',\n",
       "       'attendance', 'weekend', 'h_name_ARI', 'h_name_ATL', 'h_name_BAL',\n",
       "       'h_name_BOS', 'h_name_CHC', 'h_name_CHW', 'h_name_CIN', 'h_name_CLE',\n",
       "       'h_name_COL', 'h_name_DET', 'h_name_HOU', 'h_name_KC', 'h_name_LAA',\n",
       "       'h_name_LAD', 'h_name_MIA', 'h_name_MIL', 'h_name_MIN', 'h_name_NYM',\n",
       "       'h_name_NYY', 'h_name_OAK', 'h_name_PHI', 'h_name_PIT', 'h_name_SD',\n",
       "       'h_name_SEA', 'h_name_SF', 'h_name_STL', 'h_name_TB', 'h_name_TEX',\n",
       "       'h_name_TOR', 'h_name_WSH', 'v_name_ARI', 'v_name_ATL', 'v_name_BAL',\n",
       "       'v_name_BOS', 'v_name_CHC', 'v_name_CHW', 'v_name_CIN', 'v_name_CLE',\n",
       "       'v_name_COL', 'v_name_DET', 'v_name_HOU', 'v_name_KC', 'v_name_LAA',\n",
       "       'v_name_LAD', 'v_name_MIA', 'v_name_MIL', 'v_name_MIN', 'v_name_NYM',\n",
       "       'v_name_NYY', 'v_name_OAK', 'v_name_PHI', 'v_name_PIT', 'v_name_SD',\n",
       "       'v_name_SEA', 'v_name_SF', 'v_name_STL', 'v_name_TB', 'v_name_TEX',\n",
       "       'v_name_TOR', 'v_name_WSH'],\n",
       "      dtype='object')"
      ]
     },
     "execution_count": 9,
     "metadata": {},
     "output_type": "execute_result"
    }
   ],
   "source": [
    "model_dat.columns"
   ]
  },
  {
   "cell_type": "code",
   "execution_count": 10,
   "metadata": {},
   "outputs": [],
   "source": [
    "from sklearn.linear_model import LinearRegression\n",
    "model = LinearRegression()\n",
    "model.fit(X_train, y_train)\n",
    "\n",
    "attendance_predictions = model.predict(X_test)"
   ]
  },
  {
   "cell_type": "code",
   "execution_count": 11,
   "metadata": {},
   "outputs": [],
   "source": [
    "result = pd.DataFrame({'Predicted': attendance_predictions, 'Actual': y_test})\n",
    "result['Residual'] = abs(result['Predicted'] - result['Actual'])"
   ]
  },
  {
   "cell_type": "code",
   "execution_count": 12,
   "metadata": {},
   "outputs": [
    {
     "data": {
      "text/plain": [
       "count     3628.000000\n",
       "mean      4932.314440\n",
       "std       3765.452887\n",
       "min          0.713442\n",
       "25%       1933.872517\n",
       "50%       4157.021762\n",
       "75%       7090.338499\n",
       "max      24776.097549\n",
       "Name: Residual, dtype: float64"
      ]
     },
     "execution_count": 12,
     "metadata": {},
     "output_type": "execute_result"
    }
   ],
   "source": [
    "result['Residual'].describe()"
   ]
  },
  {
   "cell_type": "code",
   "execution_count": 13,
   "metadata": {},
   "outputs": [
    {
     "data": {
      "text/plain": [
       "[<matplotlib.lines.Line2D at 0x17d45c20a10>]"
      ]
     },
     "execution_count": 13,
     "metadata": {},
     "output_type": "execute_result"
    },
    {
     "data": {
      "image/png": "[encoded data removed]",
      "text/plain": [
       "<Figure size 640x480 with 1 Axes>"
      ]
     },
     "metadata": {},
     "output_type": "display_data"
    }
   ],
   "source": [
    "import matplotlib.pyplot as plt\n",
    "\n",
    "sorted_residuals = result['Residual'].sort_values().reset_index(drop=True)\n",
    "# Plot\n",
    "plt.plot(sorted_residuals, marker='o', linestyle='-')\n"
   ]
  },
  {
   "cell_type": "code",
   "execution_count": 14,
   "metadata": {},
   "outputs": [
    {
     "name": "stdout",
     "output_type": "stream",
     "text": [
      "Mean Squared Error: 38502453.06\n",
      "R² Score: 0.67\n"
     ]
    }
   ],
   "source": [
    "from sklearn.metrics import mean_squared_error, r2_score \n",
    "\n",
    "mse = mean_squared_error(y_test, attendance_predictions)\n",
    "r2 = r2_score(y_test, attendance_predictions)\n",
    "\n",
    "print(f\"Mean Squared Error: {mse:.2f}\")\n",
    "print(f\"R² Score: {r2:.2f}\")\n"
   ]
  },
  {
   "cell_type": "code",
   "execution_count": 15,
   "metadata": {},
   "outputs": [
    {
     "data": {
      "text/plain": [
       "71"
      ]
     },
     "execution_count": 15,
     "metadata": {},
     "output_type": "execute_result"
    }
   ],
   "source": [
    "len(model.coef_)"
   ]
  },
  {
   "cell_type": "code",
   "execution_count": 16,
   "metadata": {},
   "outputs": [
    {
     "name": "stdout",
     "output_type": "stream",
     "text": [
      "y = -29731.61 + 22.96 * week + -146.18 * day_night + 83.39 * temp + -799.96 * precip + 0.44 * capacity + 187.10 * prev_year_wins + 1287.36 * made_playoffs + 447.50 * won_division + 0.01 * InstagramFollowers + 0.00 * CityPopulation + 5309.35 * weekend + 0.00 * h_name_ARI + -6917.21 * h_name_ATL + 3959.31 * h_name_BAL + 4531.48 * h_name_BOS + 2107.22 * h_name_CHC + -1436.72 * h_name_CHW + 5498.60 * h_name_CIN + 3687.53 * h_name_CLE + 7999.80 * h_name_COL + 9241.02 * h_name_DET + -2818.68 * h_name_HOU + 3130.88 * h_name_KC + -2078.90 * h_name_LAA + -21315.82 * h_name_LAD + -8701.32 * h_name_MIA + 0.00 * h_name_MIL + -0.00 * h_name_MIN + -16678.80 * h_name_NYM + -23750.34 * h_name_NYY + -1079.17 * h_name_OAK + 7808.33 * h_name_PHI + 5876.23 * h_name_PIT + 3756.74 * h_name_SD + 3380.46 * h_name_SEA + 10718.83 * h_name_SF + 14029.27 * h_name_STL + -0.00 * h_name_TB + -2771.29 * h_name_TEX + 0.00 * h_name_TOR + 1822.55 * h_name_WSH + -1326.05 * v_name_ARI + -320.23 * v_name_ATL + -1048.22 * v_name_BAL + 4981.29 * v_name_BOS + 2163.48 * v_name_CHC + -1030.21 * v_name_CHW + -4.30 * v_name_CIN + -592.47 * v_name_CLE + -1559.38 * v_name_COL + 648.50 * v_name_DET + -1364.78 * v_name_HOU + -1968.37 * v_name_KC + -54.06 * v_name_LAA + 1613.66 * v_name_LAD + -1364.92 * v_name_MIA + -1193.30 * v_name_MIL + -918.58 * v_name_MIN + 1509.20 * v_name_NYM + 6733.69 * v_name_NYY + -759.96 * v_name_OAK + 954.28 * v_name_PHI + -1057.95 * v_name_PIT + -595.26 * v_name_SD + -1243.38 * v_name_SEA + 1326.82 * v_name_SF + 1247.12 * v_name_STL + -1513.19 * v_name_TB + -1059.79 * v_name_TEX + -1600.03 * v_name_TOR + -603.60 * v_name_WSH\n"
     ]
    }
   ],
   "source": [
    "terms = [f\"{coef:.2f} * {feature}\" for coef, feature in zip(model.coef_, X.columns)]\n",
    "equation = \" + \".join(terms)\n",
    "equation = f\"y = {model.intercept_:.2f} + {equation}\"\n",
    "\n",
    "# Print the equation\n",
    "print(equation)"
   ]
  },
  {
   "cell_type": "code",
   "execution_count": 17,
   "metadata": {},
   "outputs": [
    {
     "data": {
      "text/html": [
       "<div>\n",
       "<style scoped>\n",
       "    .dataframe tbody tr th:only-of-type {\n",
       "        vertical-align: middle;\n",
       "    }\n",
       "\n",
       "    .dataframe tbody tr th {\n",
       "        vertical-align: top;\n",
       "    }\n",
       "\n",
       "    .dataframe thead th {\n",
       "        text-align: right;\n",
       "    }\n",
       "</style>\n",
       "<table border=\"1\" class=\"dataframe\">\n",
       "  <thead>\n",
       "    <tr style=\"text-align: right;\">\n",
       "      <th></th>\n",
       "      <th>Feature</th>\n",
       "      <th>Importance</th>\n",
       "    </tr>\n",
       "  </thead>\n",
       "  <tbody>\n",
       "    <tr>\n",
       "      <th>9</th>\n",
       "      <td>CityPopulation</td>\n",
       "      <td>6.709672e+03</td>\n",
       "    </tr>\n",
       "    <tr>\n",
       "      <th>8</th>\n",
       "      <td>InstagramFollowers</td>\n",
       "      <td>6.107678e+03</td>\n",
       "    </tr>\n",
       "    <tr>\n",
       "      <th>29</th>\n",
       "      <td>h_name_NYY</td>\n",
       "      <td>4.808070e+03</td>\n",
       "    </tr>\n",
       "    <tr>\n",
       "      <th>24</th>\n",
       "      <td>h_name_LAD</td>\n",
       "      <td>4.554442e+03</td>\n",
       "    </tr>\n",
       "    <tr>\n",
       "      <th>28</th>\n",
       "      <td>h_name_NYM</td>\n",
       "      <td>3.088193e+03</td>\n",
       "    </tr>\n",
       "    <tr>\n",
       "      <th>...</th>\n",
       "      <td>...</td>\n",
       "      <td>...</td>\n",
       "    </tr>\n",
       "    <tr>\n",
       "      <th>11</th>\n",
       "      <td>h_name_ARI</td>\n",
       "      <td>1.136868e-11</td>\n",
       "    </tr>\n",
       "    <tr>\n",
       "      <th>26</th>\n",
       "      <td>h_name_MIL</td>\n",
       "      <td>5.456968e-12</td>\n",
       "    </tr>\n",
       "    <tr>\n",
       "      <th>27</th>\n",
       "      <td>h_name_MIN</td>\n",
       "      <td>4.035883e-12</td>\n",
       "    </tr>\n",
       "    <tr>\n",
       "      <th>39</th>\n",
       "      <td>h_name_TOR</td>\n",
       "      <td>6.821210e-13</td>\n",
       "    </tr>\n",
       "    <tr>\n",
       "      <th>37</th>\n",
       "      <td>h_name_TB</td>\n",
       "      <td>2.273737e-13</td>\n",
       "    </tr>\n",
       "  </tbody>\n",
       "</table>\n",
       "<p>71 rows × 2 columns</p>\n",
       "</div>"
      ],
      "text/plain": [
       "               Feature    Importance\n",
       "9       CityPopulation  6.709672e+03\n",
       "8   InstagramFollowers  6.107678e+03\n",
       "29          h_name_NYY  4.808070e+03\n",
       "24          h_name_LAD  4.554442e+03\n",
       "28          h_name_NYM  3.088193e+03\n",
       "..                 ...           ...\n",
       "11          h_name_ARI  1.136868e-11\n",
       "26          h_name_MIL  5.456968e-12\n",
       "27          h_name_MIN  4.035883e-12\n",
       "39          h_name_TOR  6.821210e-13\n",
       "37           h_name_TB  2.273737e-13\n",
       "\n",
       "[71 rows x 2 columns]"
      ]
     },
     "execution_count": 17,
     "metadata": {},
     "output_type": "execute_result"
    }
   ],
   "source": [
    "from sklearn.preprocessing import StandardScaler\n",
    "import pandas as pd\n",
    "\n",
    "scaler = StandardScaler()\n",
    "X_scaled = scaler.fit_transform(X) #scale data for uniform comparison\n",
    "\n",
    "\n",
    "model = LinearRegression()\n",
    "model.fit(X_scaled, y)\n",
    "\n",
    "\n",
    "feature_importance = abs(model.coef_) #coefficients from model on scaled data\n",
    "importance_df = pd.DataFrame({'Feature': X.columns, 'Importance': feature_importance})\n",
    "importance_df = importance_df.sort_values(by='Importance', ascending=False)\n",
    "\n",
    "importance_df\n"
   ]
  },
  {
   "cell_type": "code",
   "execution_count": null,
   "metadata": {},
   "outputs": [],
   "source": []
  }
 ],
 "metadata": {
  "kernelspec": {
   "display_name": "Python 3",
   "language": "python",
   "name": "python3"
  },
  "language_info": {
   "codemirror_mode": {
    "name": "ipython",
    "version": 3
   },
   "file_extension": ".py",
   "mimetype": "text/x-python",
   "name": "python",
   "nbconvert_exporter": "python",
   "pygments_lexer": "ipython3",
   "version": "3.11.9"
  }
 },
 "nbformat": 4,
 "nbformat_minor": 2
}
